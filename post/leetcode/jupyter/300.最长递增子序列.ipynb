{
 "nbformat": 4,
 "nbformat_minor": 2,
 "metadata": {
  "language_info": {
   "name": "python",
   "codemirror_mode": {
    "name": "ipython",
    "version": 3
   },
   "version": "3.8.2"
  },
  "orig_nbformat": 2,
  "file_extension": ".py",
  "mimetype": "text/x-python",
  "name": "python",
  "npconvert_exporter": "python",
  "pygments_lexer": "ipython3",
  "version": 3,
  "kernelspec": {
   "name": "ee9f3241-cc88-4c4a-98dd-af203aea1c20",
   "display_name": "'Python Interactive'",
   "language": "python"
  }
 },
 "cells": [
  {
   "source": [
    "# [最长递增子序列](https://leetcode-cn.com/problems/longest-increasing-subsequence/description/ \"https://leetcode-cn.com/problems/longest-increasing-subsequence/description/\")\n",
    "\n",
    "| Category | Difficulty | Likes | Dislikes |\n",
    "| --- | --- | --- | --- |\n",
    "| algorithms | Medium (51.75%) | 1963 | -   |\n",
    "\n",
    "**Tags**\n",
    "\n",
    "[`binary-search`](https://leetcode.com/tag/binary-search \"https://leetcode.com/tag/binary-search\") | [`dynamic-programming`](https://leetcode.com/tag/dynamic-programming \"https://leetcode.com/tag/dynamic-programming\")\n",
    "\n",
    "**Companies**\n",
    "\n",
    "`microsoft`\n",
    "\n",
    "给你一个整数数组 `nums` ，找到其中最长严格递增子序列的长度。\n",
    "\n",
    "子序列是由数组派生而来的序列，删除（或不删除）数组中的元素而不改变其余元素的顺序。例如，`[3,6,2,7]` 是数组 `[0,3,1,6,2,2,7]` 的子序列。\n",
    "\n",
    "**示例 1：**\n",
    "\n",
    "```\n",
    "输入：nums = [10,9,2,5,3,7,101,18]\n",
    "输出：4\n",
    "解释：最长递增子序列是 [2,3,7,101]，因此长度为 4 。\n",
    "```\n",
    "\n",
    "**示例 2：**\n",
    "\n",
    "```\n",
    "输入：nums = [0,1,0,3,2,3]\n",
    "输出：4\n",
    "```\n",
    "\n",
    "**示例 3：**\n",
    "\n",
    "```\n",
    "输入：nums = [7,7,7,7,7,7,7]\n",
    "输出：1\n",
    "```\n",
    "\n",
    "**提示：**\n",
    "\n",
    "- `1 <= nums.length <= 2500`\n",
    "- `-104 <= nums[i] <= 104`\n",
    "\n",
    "**进阶：**\n",
    "\n",
    "- 你可以设计时间复杂度为 `O(n2)` 的解决方案吗？\n",
    "- 你能将算法的时间复杂度降低到 `O(n log(n))` 吗?\n",
    "\n",
    "---\n",
    "\n",
    "[Discussion](https://leetcode-cn.com/problems/longest-increasing-subsequence/comments/ \"https://leetcode-cn.com/problems/longest-increasing-subsequence/comments/\") | [Solution](https://leetcode-cn.com/problems/longest-increasing-subsequence/solution/ \"https://leetcode-cn.com/problems/longest-increasing-subsequence/solution/\")\n",
    "\n",
    "## 解法\n",
    "\n",
    "### 解法一：\n",
    "\n",
    "- 使用一个数组`lis`记录最长递增子序列;\n",
    "  \n",
    "- 顺序遍历序列：\n",
    "  \n",
    "  - 如果当前元素`nums[i]` >`lis`最后一个元素，则将当前元素追加到`lis`末尾；\n",
    "    \n",
    "  - 否则, `lis`中必定存在大于当前元素的元素，查找第一个大于当前`nums[i]`的元素，用当前元素替换该元素；\n",
    "    \n",
    "  - 由于`lis`为有序的，所以可以使用二分加速上面一步的速度；"
   ],
   "cell_type": "markdown",
   "metadata": {}
  },
  {
   "cell_type": "code",
   "execution_count": 1,
   "metadata": {},
   "outputs": [],
   "source": [
    "import numpy as np\n",
    "from typing import List"
   ]
  },
  {
   "cell_type": "code",
   "execution_count": 2,
   "metadata": {},
   "outputs": [
    {
     "output_type": "error",
     "ename": "NameError",
     "evalue": "name 'List' is not defined",
     "traceback": [
      "\u001b[0;31m---------------------------------------------------------------------------\u001b[0m",
      "\u001b[0;31mNameError\u001b[0m                                 Traceback (most recent call last)",
      "\u001b[0;32m<ipython-input-2-9ef5ccc6ad27>\u001b[0m in \u001b[0;36m<module>\u001b[0;34m\u001b[0m\n\u001b[0;32m----> 1\u001b[0;31m \u001b[0;32mdef\u001b[0m \u001b[0mlengthOfLIS\u001b[0m\u001b[0;34m(\u001b[0m\u001b[0mself\u001b[0m\u001b[0;34m,\u001b[0m \u001b[0mnums\u001b[0m\u001b[0;34m:\u001b[0m \u001b[0mList\u001b[0m\u001b[0;34m[\u001b[0m\u001b[0mint\u001b[0m\u001b[0;34m]\u001b[0m\u001b[0;34m)\u001b[0m \u001b[0;34m->\u001b[0m \u001b[0mint\u001b[0m\u001b[0;34m:\u001b[0m\u001b[0;34m\u001b[0m\u001b[0;34m\u001b[0m\u001b[0m\n\u001b[0m\u001b[1;32m      2\u001b[0m     \u001b[0;32mif\u001b[0m \u001b[0mlen\u001b[0m\u001b[0;34m(\u001b[0m\u001b[0mnums\u001b[0m\u001b[0;34m)\u001b[0m \u001b[0;34m==\u001b[0m \u001b[0;36m0\u001b[0m\u001b[0;34m:\u001b[0m\u001b[0;34m\u001b[0m\u001b[0;34m\u001b[0m\u001b[0m\n\u001b[1;32m      3\u001b[0m         \u001b[0;32mreturn\u001b[0m \u001b[0;36m0\u001b[0m\u001b[0;34m\u001b[0m\u001b[0;34m\u001b[0m\u001b[0m\n\u001b[1;32m      4\u001b[0m     \u001b[0mlis\u001b[0m \u001b[0;34m=\u001b[0m \u001b[0;34m[\u001b[0m\u001b[0mnums\u001b[0m\u001b[0;34m[\u001b[0m\u001b[0;36m0\u001b[0m\u001b[0;34m]\u001b[0m\u001b[0;34m]\u001b[0m\u001b[0;34m\u001b[0m\u001b[0;34m\u001b[0m\u001b[0m\n\u001b[1;32m      5\u001b[0m     \u001b[0;32mfor\u001b[0m \u001b[0mn\u001b[0m \u001b[0;32min\u001b[0m \u001b[0mnums\u001b[0m\u001b[0;34m[\u001b[0m\u001b[0;36m1\u001b[0m\u001b[0;34m:\u001b[0m\u001b[0;34m]\u001b[0m\u001b[0;34m:\u001b[0m\u001b[0;34m\u001b[0m\u001b[0;34m\u001b[0m\u001b[0m\n",
      "\u001b[0;31mNameError\u001b[0m: name 'List' is not defined"
     ]
    }
   ],
   "source": [
    "    def lengthOfLIS(self, nums: List[int]) -> int:\n",
    "        if len(nums) == 0: \n",
    "            return 0\n",
    "        lis = [nums[0]]\n",
    "        for n in nums[1:]:\n",
    "            if n > lis[-1]:\n",
    "                lis.append(n)\n",
    "            else:\n",
    "                l, r = 0, len(lis)\n",
    "                while l < r:\n",
    "                    i = l + (r - l) // 2\n",
    "                    if lis[i] >= n and (i==0 or lis[i-1] < n ):\n",
    "                        lis[i] = n\n",
    "                        break\n",
    "                    elif lis[i] < n:\n",
    "                        l = i + 1\n",
    "                    else:\n",
    "                        r = i\n",
    "\n",
    "        return len(lis)\n",
    "        "
   ]
  },
  {
   "cell_type": "code",
   "execution_count": null,
   "metadata": {},
   "outputs": [],
   "source": []
  }
 ]
}